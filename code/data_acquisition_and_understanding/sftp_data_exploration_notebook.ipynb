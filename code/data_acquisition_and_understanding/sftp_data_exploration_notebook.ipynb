{
 "cells": [
  {
   "cell_type": "markdown",
   "id": "872d52c7-76f7-422f-be2e-0b54d8d9741f",
   "metadata": {},
   "source": [
    "# SFTP Data Exploration Notebook\n",
    "\n",
    "An example notebook which can be used to perform data analysis using an SFTP client via Paramiko and Pandas dataframes."
   ]
  },
  {
   "cell_type": "code",
   "execution_count": null,
   "id": "f8a70d1c-fc32-4320-8840-44c78375d111",
   "metadata": {},
   "outputs": [],
   "source": [
    "import paramiko\n",
    "from box import Box\n",
    "from paramiko.dsskey import DSSKey\n",
    "\n",
    "# key docs, see: http://docs.paramiko.org/en/stable/api/keys.html"
   ]
  },
  {
   "cell_type": "code",
   "execution_count": null,
   "id": "7099bd69-be93-4c15-a75e-5c1d8112aec1",
   "metadata": {},
   "outputs": [],
   "source": [
    "# filepath to configuration file in yaml format\n",
    "config_filepath = \"file.yaml\"\n",
    "sftp_name = \"sftpname\""
   ]
  },
  {
   "cell_type": "code",
   "execution_count": null,
   "id": "f7eb587c-52a9-492f-8ed4-78f352831f8f",
   "metadata": {},
   "outputs": [],
   "source": [
    "# open configuration file containing relevant connection details for oracle database\n",
    "config = Box.from_yaml(filename=config_filepath)[sftp_name]"
   ]
  },
  {
   "cell_type": "code",
   "execution_count": null,
   "id": "f4734a88-dcb4-4e84-acbb-e7c579f07dc9",
   "metadata": {},
   "outputs": [],
   "source": [
    "# build configuration options for paramiko\n",
    "paramiko.util.log_to_file(\"paramiko.log\")\n",
    "sock = (config.hostname, config.port)\n",
    "key = DSSKey.from_private_key_file(config.private_key_path)"
   ]
  },
  {
   "cell_type": "code",
   "execution_count": null,
   "id": "eb61f79a-1b3b-4d83-85a2-2d5be7a6ea5d",
   "metadata": {},
   "outputs": [],
   "source": [
    "# create, connect, and build and use SFTP client\n",
    "with paramiko.Transport(sock=sock) as client:\n",
    "    client.connect(username=config.username, pkey=key)\n",
    "    sftp = paramiko.SFTPClient.from_transport(client)\n",
    "\n",
    "    # list dir contents\n",
    "    print(sftp.listdir())\n",
    "\n",
    "    # get a file\n",
    "    sftp.get(remotepath=\"file\", localpath=\"./file\")"
   ]
  }
 ],
 "metadata": {
  "kernelspec": {
   "display_name": "Python 3",
   "language": "python",
   "name": "python3"
  },
  "language_info": {
   "codemirror_mode": {
    "name": "ipython",
    "version": 3
   },
   "file_extension": ".py",
   "mimetype": "text/x-python",
   "name": "python",
   "nbconvert_exporter": "python",
   "pygments_lexer": "ipython3",
   "version": "3.7.9"
  }
 },
 "nbformat": 4,
 "nbformat_minor": 5
}
