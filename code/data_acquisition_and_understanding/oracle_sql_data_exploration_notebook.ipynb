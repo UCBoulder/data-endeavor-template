{
 "cells": [
  {
   "cell_type": "markdown",
   "id": "1e91554b-1867-4630-89fb-03a0581e8046",
   "metadata": {},
   "source": [
    "# Oracle SQL Data Exploration Notebook\n",
    "\n",
    "An example notebook which can be used to perform data analysis using an Oracle SQL client via SQLAlchemy and Pandas dataframes.\n"
   ]
  },
  {
   "cell_type": "code",
   "execution_count": null,
   "id": "d9a0e32d-7420-4251-a725-a69cdabd0c71",
   "metadata": {},
   "outputs": [],
   "source": [
    "import json\n",
    "import os\n",
    "from datetime import datetime, timedelta\n",
    "\n",
    "import matplotlib.pyplot as plt\n",
    "import numpy as np\n",
    "import pandas as pd\n",
    "import sqlfluff\n",
    "from box import Box\n",
    "from dateutil.relativedelta import relativedelta\n",
    "from sqlalchemy import create_engine\n",
    "\n",
    "from cupyopt.schema import avro_schema, avro_schema_to_file, infer_df_avro_schema\n",
    "from cupyopt.validation import df_avro_validate"
   ]
  },
  {
   "cell_type": "code",
   "execution_count": null,
   "id": "5aa86a27-e996-4896-bcdf-bc7d4db9a88b",
   "metadata": {},
   "outputs": [],
   "source": [
    "# filepath to configuration file in yaml format\n",
    "config_filepath = \"file.yaml\"\n",
    "database_name = \"db\""
   ]
  },
  {
   "cell_type": "code",
   "execution_count": null,
   "id": "6e0df745-1f12-439f-b535-71544ab0bb5c",
   "metadata": {},
   "outputs": [],
   "source": [
    "# open configuration file containing relevant connection details for oracle database\n",
    "config = Box.from_yaml(filename=config_filepath)[database_name]\n",
    "\n",
    "# oracle connection string which will have values replaced based on credentials provided from above json file\n",
    "oracle_connection_string = (\n",
    "    \"oracle+cx_oracle://{username}:{password}@{hostname}:{port}/{database}\"\n",
    ")\n",
    "live_uri = oracle_connection_string.format(\n",
    "    username=config[\"username\"],\n",
    "    password=config[\"password\"],\n",
    "    hostname=config[\"hostname\"],\n",
    "    port=config[\"port\"],\n",
    "    database=config[\"database\"],\n",
    ")\n",
    "# create the database connection engine using sqlalchemy library and formated oracle_connection_string\n",
    "engine = create_engine(live_uri)"
   ]
  },
  {
   "cell_type": "code",
   "execution_count": null,
   "id": "61d11924-e2da-460b-9448-01698e498fa4",
   "metadata": {},
   "outputs": [],
   "source": [
    "# build a SQL statement and run through SQL linter\n",
    "sql_stmt = \"\"\"\n",
    "select distinct fs.uuid, fo1.flag, fo2.code from funky.schema fs\n",
    "join funky.object1 fo1 on\n",
    "fs.uuid = fo1.uuid\n",
    "and fs.code = fo1.code\n",
    "join funky.object2 fo2 on\n",
    "fs.code = fo2.code\n",
    "where fo1.flag = False\n",
    "and fo2.prog = 'thing'\n",
    "and fs.uuid not null\n",
    "\"\"\"\n",
    "sql_stmt_fixed = sqlfluff.fix(sql_stmt, dialect=\"ansi\")\n",
    "print(sql_stmt_fixed)"
   ]
  },
  {
   "cell_type": "code",
   "execution_count": null,
   "id": "79d9267f-10c2-4acc-877e-336cff5b6c60",
   "metadata": {},
   "outputs": [],
   "source": [
    "# read sql using linted SQL from above\n",
    "df = pd.read_sql(sql_stmt_fixed, engine)\n",
    "df.head()"
   ]
  },
  {
   "cell_type": "code",
   "execution_count": null,
   "id": "58b03fc4-a607-444b-be2a-38f8762f577e",
   "metadata": {},
   "outputs": [],
   "source": [
    "# adjust column names and types if needed\n",
    "df = df.rename(\n",
    "    columns={\n",
    "        \"colname\": \"new_colname\",\n",
    "    }\n",
    ")\n",
    "df = df.astype(\n",
    "    {\n",
    "        \"new_colname\": \"str\",\n",
    "    }\n",
    ")"
   ]
  }
 ],
 "metadata": {
  "kernelspec": {
   "display_name": "Python 3",
   "language": "python",
   "name": "python3"
  },
  "language_info": {
   "codemirror_mode": {
    "name": "ipython",
    "version": 3
   },
   "file_extension": ".py",
   "mimetype": "text/x-python",
   "name": "python",
   "nbconvert_exporter": "python",
   "pygments_lexer": "ipython3",
   "version": "3.7.9"
  }
 },
 "nbformat": 4,
 "nbformat_minor": 5
}
