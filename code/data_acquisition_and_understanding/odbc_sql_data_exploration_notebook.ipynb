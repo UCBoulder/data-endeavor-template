{
 "cells": [
  {
   "cell_type": "markdown",
   "id": "872d52c7-76f7-422f-be2e-0b54d8d9741f",
   "metadata": {},
   "source": [
    "# ODBC SQL Data Exploration Notebook\n",
    "\n",
    "An example notebook which can be used to perform data analysis using ODBC and Pandas dataframes."
   ]
  },
  {
   "cell_type": "code",
   "execution_count": null,
   "id": "f8a70d1c-fc32-4320-8840-44c78375d111",
   "metadata": {},
   "outputs": [],
   "source": [
    "import pandas as pd\n",
    "import pyodbc\n",
    "from box import Box"
   ]
  },
  {
   "cell_type": "code",
   "execution_count": null,
   "id": "7099bd69-be93-4c15-a75e-5c1d8112aec1",
   "metadata": {},
   "outputs": [],
   "source": [
    "\"\"\"\n",
    "config_filepath found below should include yaml data similar to the following\n",
    "<databasename>:\n",
    "    hostname: \"hostname\"\n",
    "    port: port \n",
    "    username: \"username\"\n",
    "    password: \"password\"\n",
    "    driver: \"driver name\"\n",
    "\"\"\"\n",
    "\n",
    "# filepath to configuration file in yaml format\n",
    "config_filepath = \"config.yaml\"\n",
    "dbname = \"databasename\""
   ]
  },
  {
   "cell_type": "code",
   "execution_count": null,
   "id": "f7eb587c-52a9-492f-8ed4-78f352831f8f",
   "metadata": {},
   "outputs": [],
   "source": [
    "# open configuration file containing relevant connection details for oracle database\n",
    "config = Box.from_yaml(filename=config_filepath)[dbname]"
   ]
  },
  {
   "cell_type": "code",
   "execution_count": null,
   "id": "f4734a88-dcb4-4e84-acbb-e7c579f07dc9",
   "metadata": {},
   "outputs": [],
   "source": [
    "connection_string = \"Driver={driver};ConnectionType=Direct;HOST={hostname};PORT={port};AuthenticationType=Plain;UID={username};PWD={password}\"\n",
    "\n",
    "cnxn = pyodbc.connect(\n",
    "    connection_string.format(\n",
    "        driver=config.driver,\n",
    "        hostname=config.hostname,\n",
    "        port=config.port,\n",
    "        username=config.username,\n",
    "        password=config.password,\n",
    "    ),\n",
    "    autocommit=True,\n",
    ")"
   ]
  },
  {
   "cell_type": "code",
   "execution_count": null,
   "id": "eb61f79a-1b3b-4d83-85a2-2d5be7a6ea5d",
   "metadata": {},
   "outputs": [],
   "source": [
    "sql = \"SELECT * FROM TABLENAME LIMIT 5\"\n",
    "\n",
    "df = pd.read_sql(sql, cnxn)\n",
    "df.head()"
   ]
  }
 ],
 "metadata": {
  "kernelspec": {
   "display_name": "Python 3",
   "language": "python",
   "name": "python3"
  },
  "language_info": {
   "codemirror_mode": {
    "name": "ipython",
    "version": 3
   },
   "file_extension": ".py",
   "mimetype": "text/x-python",
   "name": "python",
   "nbconvert_exporter": "python",
   "pygments_lexer": "ipython3",
   "version": "3.7.9"
  }
 },
 "nbformat": 4,
 "nbformat_minor": 5
}
