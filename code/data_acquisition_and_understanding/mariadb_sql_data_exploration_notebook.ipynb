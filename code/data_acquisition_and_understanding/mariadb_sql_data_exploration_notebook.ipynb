{
 "cells": [
  {
   "cell_type": "markdown",
   "id": "1e91554b-1867-4630-89fb-03a0581e8046",
   "metadata": {},
   "source": [
    "# Maria SQL Data Exploration Notebook\n",
    "\n",
    "An example notebook which can be used to perform data analysis using an MariaDB SQL client and Pandas dataframes."
   ]
  },
  {
   "cell_type": "code",
   "execution_count": null,
   "id": "d9a0e32d-7420-4251-a725-a69cdabd0c71",
   "metadata": {},
   "outputs": [],
   "source": [
    "import json\n",
    "import os\n",
    "from datetime import datetime, timedelta\n",
    "\n",
    "import matplotlib.pyplot as plt\n",
    "import numpy as np\n",
    "import pandas as pd\n",
    "import paramiko\n",
    "import pymysql\n",
    "import sqlfluff\n",
    "from box import Box\n",
    "from dateutil.relativedelta import relativedelta\n",
    "from paramiko import SSHClient\n",
    "from sshtunnel import SSHTunnelForwarder\n",
    "\n",
    "from cupyopt.schema import avro_schema, avro_schema_to_file, infer_df_avro_schema\n",
    "from cupyopt.validation import df_avro_validate"
   ]
  },
  {
   "cell_type": "code",
   "execution_count": null,
   "id": "5aa86a27-e996-4896-bcdf-bc7d4db9a88b",
   "metadata": {},
   "outputs": [],
   "source": [
    "\"\"\"\n",
    "config_filepath found below should include yaml data similar to the following\n",
    "<databasename>:\n",
    "    ssh_hostname: str\n",
    "    ssh_port: int\n",
    "    ssh_username: str\n",
    "    ssh_key: str\n",
    "    sql_hostname: str\n",
    "    sql_port: int\n",
    "    sql_username: str\n",
    "    sql_password: str\n",
    "    database: str\n",
    "\"\"\"\n",
    "\n",
    "# filepath to configuration file in yaml format\n",
    "config_filepath = \"config.yaml\"\n",
    "database_name = \"databasename\""
   ]
  },
  {
   "cell_type": "code",
   "execution_count": null,
   "id": "ecb39649-a80d-4ba8-bf3c-c0586d40994f",
   "metadata": {},
   "outputs": [],
   "source": [
    "# open configuration file containing relevant connection details for oracle database\n",
    "config = Box.from_yaml(filename=config_filepath)[database_name]\n",
    "# create paramiko private key for use with ssh cxn\n",
    "pkey = paramiko.RSAKey.from_private_key_file(config[\"ssh_key\"])"
   ]
  },
  {
   "cell_type": "code",
   "execution_count": null,
   "id": "bfc83891-498f-4b0a-b2d2-5162016ce9b5",
   "metadata": {},
   "outputs": [],
   "source": [
    "# inspired by following SO post -> https://stackoverflow.com/questions/21903411/enable-python-to-connect-to-mysql-via-ssh-tunnelling\n",
    "def ssh_tunneled_sql_query(\n",
    "    sql_stmt: str,\n",
    "    config: Box,\n",
    "    ssh_pkey: paramiko.pkey.PKey,\n",
    ") -> pd.DataFrame:\n",
    "    \"\"\"\n",
    "    Makes SSH-tunneled SQL Query, receiving and returning data as pd.DataFrame\n",
    "    \"\"\"\n",
    "    with SSHTunnelForwarder(\n",
    "        (config.ssh_hostname, config.ssh_port),\n",
    "        ssh_username=config.ssh_username,\n",
    "        ssh_pkey=pkey,\n",
    "        remote_bind_address=(config.sql_hostname, config.sql_port),\n",
    "    ) as tunnel:\n",
    "        conn = pymysql.connect(\n",
    "            host=config.sql_hostname,\n",
    "            user=config.sql_username,\n",
    "            passwd=config.sql_password,\n",
    "            port=tunnel.local_bind_port,\n",
    "        )\n",
    "        data = pd.read_sql_query(sql_stmt, conn)\n",
    "        conn.close()\n",
    "\n",
    "    return data"
   ]
  },
  {
   "cell_type": "code",
   "execution_count": null,
   "id": "bd9c44f8-67ac-420d-a8a0-facd39d90fc4",
   "metadata": {},
   "outputs": [],
   "source": [
    "sql_stmt = \"\"\"\n",
    "select version()\n",
    "\"\"\"\n",
    "ssh_tunneled_sql_query(sql_stmt=sql_stmt, ssh_pkey=pkey, config=config)"
   ]
  },
  {
   "cell_type": "code",
   "execution_count": null,
   "id": "2ee3bd2b-5e66-4008-b293-baaadc29be32",
   "metadata": {},
   "outputs": [],
   "source": [
    "sql_stmt = \"\"\"\n",
    "select *\n",
    "from information_schema.schemata\n",
    "order by schema_name;\n",
    "\"\"\"\n",
    "ssh_tunneled_sql_query(sql_stmt=sql_stmt, ssh_pkey=pkey, config=config)"
   ]
  }
 ],
 "metadata": {
  "kernelspec": {
   "display_name": "Python 3",
   "language": "python",
   "name": "python3"
  },
  "language_info": {
   "codemirror_mode": {
    "name": "ipython",
    "version": 3
   },
   "file_extension": ".py",
   "mimetype": "text/x-python",
   "name": "python",
   "nbconvert_exporter": "python",
   "pygments_lexer": "ipython3",
   "version": "3.7.9"
  }
 },
 "nbformat": 4,
 "nbformat_minor": 5
}
