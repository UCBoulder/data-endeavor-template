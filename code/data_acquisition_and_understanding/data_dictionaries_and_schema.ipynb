{
 "cells": [
  {
   "cell_type": "markdown",
   "id": "6ccb6b08-b4fe-480e-8fba-fa195981d2f8",
   "metadata": {},
   "source": [
    "# Data Dictionaries and Schema\n",
    "\n",
    "Examples of data dictionary or schema extraction from datasets via Pandas dataframe and various methods."
   ]
  },
  {
   "cell_type": "code",
   "execution_count": 1,
   "id": "663cfa3a-2d46-4e8a-ad8d-28248d77df81",
   "metadata": {},
   "outputs": [
    {
     "data": {
      "text/html": [
       "<div>\n",
       "<style scoped>\n",
       "    .dataframe tbody tr th:only-of-type {\n",
       "        vertical-align: middle;\n",
       "    }\n",
       "\n",
       "    .dataframe tbody tr th {\n",
       "        vertical-align: top;\n",
       "    }\n",
       "\n",
       "    .dataframe thead th {\n",
       "        text-align: right;\n",
       "    }\n",
       "</style>\n",
       "<table border=\"1\" class=\"dataframe\">\n",
       "  <thead>\n",
       "    <tr style=\"text-align: right;\">\n",
       "      <th></th>\n",
       "      <th>sepal length (cm)</th>\n",
       "      <th>sepal width (cm)</th>\n",
       "      <th>petal length (cm)</th>\n",
       "      <th>petal width (cm)</th>\n",
       "    </tr>\n",
       "  </thead>\n",
       "  <tbody>\n",
       "    <tr>\n",
       "      <th>0</th>\n",
       "      <td>5.1</td>\n",
       "      <td>3.5</td>\n",
       "      <td>1.4</td>\n",
       "      <td>0.2</td>\n",
       "    </tr>\n",
       "    <tr>\n",
       "      <th>1</th>\n",
       "      <td>4.9</td>\n",
       "      <td>3.0</td>\n",
       "      <td>1.4</td>\n",
       "      <td>0.2</td>\n",
       "    </tr>\n",
       "    <tr>\n",
       "      <th>2</th>\n",
       "      <td>4.7</td>\n",
       "      <td>3.2</td>\n",
       "      <td>1.3</td>\n",
       "      <td>0.2</td>\n",
       "    </tr>\n",
       "    <tr>\n",
       "      <th>3</th>\n",
       "      <td>4.6</td>\n",
       "      <td>3.1</td>\n",
       "      <td>1.5</td>\n",
       "      <td>0.2</td>\n",
       "    </tr>\n",
       "    <tr>\n",
       "      <th>4</th>\n",
       "      <td>5.0</td>\n",
       "      <td>3.6</td>\n",
       "      <td>1.4</td>\n",
       "      <td>0.2</td>\n",
       "    </tr>\n",
       "  </tbody>\n",
       "</table>\n",
       "</div>"
      ],
      "text/plain": [
       "   sepal length (cm)  sepal width (cm)  petal length (cm)  petal width (cm)\n",
       "0                5.1               3.5                1.4               0.2\n",
       "1                4.9               3.0                1.4               0.2\n",
       "2                4.7               3.2                1.3               0.2\n",
       "3                4.6               3.1                1.5               0.2\n",
       "4                5.0               3.6                1.4               0.2"
      ]
     },
     "execution_count": 1,
     "metadata": {},
     "output_type": "execute_result"
    }
   ],
   "source": [
    "import json\n",
    "\n",
    "import pandas as pd\n",
    "import pandavro as pda\n",
    "import pyarrow as pa\n",
    "import pyarrow.parquet as pq\n",
    "from sklearn import datasets\n",
    "\n",
    "# load iris dataset from sklearn\n",
    "iris = datasets.load_iris()\n",
    "\n",
    "# load iris dataset as pandas dataframe\n",
    "df = pd.DataFrame(iris.data, columns=iris.feature_names)\n",
    "df.head()"
   ]
  },
  {
   "cell_type": "code",
   "execution_count": 2,
   "id": "7832fa1d-3039-4b9a-9999-f4519ea7c9d7",
   "metadata": {},
   "outputs": [
    {
     "data": {
      "text/plain": [
       "{'fields': [{'name': 'index', 'type': 'integer'},\n",
       "  {'name': 'sepal length (cm)', 'type': 'number'},\n",
       "  {'name': 'sepal width (cm)', 'type': 'number'},\n",
       "  {'name': 'petal length (cm)', 'type': 'number'},\n",
       "  {'name': 'petal width (cm)', 'type': 'number'}],\n",
       " 'primaryKey': ['index'],\n",
       " 'pandas_version': '0.20.0'}"
      ]
     },
     "execution_count": 2,
     "metadata": {},
     "output_type": "execute_result"
    }
   ],
   "source": [
    "# show pandas json table schema\n",
    "pd.io.json.build_table_schema(df)"
   ]
  },
  {
   "cell_type": "code",
   "execution_count": 3,
   "id": "eabcec94-43dc-4e6b-adea-34127d6445f7",
   "metadata": {},
   "outputs": [
    {
     "name": "stdout",
     "output_type": "stream",
     "text": [
      "{\n",
      "    \"type\": \"record\",\n",
      "    \"name\": \"Root\",\n",
      "    \"fields\": [\n",
      "        {\n",
      "            \"name\": \"sepal length (cm)\",\n",
      "            \"type\": [\n",
      "                \"null\",\n",
      "                \"double\"\n",
      "            ]\n",
      "        },\n",
      "        {\n",
      "            \"name\": \"sepal width (cm)\",\n",
      "            \"type\": [\n",
      "                \"null\",\n",
      "                \"double\"\n",
      "            ]\n",
      "        },\n",
      "        {\n",
      "            \"name\": \"petal length (cm)\",\n",
      "            \"type\": [\n",
      "                \"null\",\n",
      "                \"double\"\n",
      "            ]\n",
      "        },\n",
      "        {\n",
      "            \"name\": \"petal width (cm)\",\n",
      "            \"type\": [\n",
      "                \"null\",\n",
      "                \"double\"\n",
      "            ]\n",
      "        }\n",
      "    ]\n",
      "}\n"
     ]
    }
   ],
   "source": [
    "# use pandavro schema inference for quick schema outline\n",
    "schema = pda.__schema_infer(df=df, times_as_micros=True)\n",
    "\n",
    "# indent from json dumps helps make formatting more legible\n",
    "print(json.dumps(schema, indent=4))"
   ]
  },
  {
   "cell_type": "code",
   "execution_count": 4,
   "id": "ee8f418a-e281-4170-b9dc-05d60714024e",
   "metadata": {},
   "outputs": [
    {
     "data": {
      "text/plain": [
       "sepal length (cm): double\n",
       "sepal width (cm): double\n",
       "petal length (cm): double\n",
       "petal width (cm): double\n",
       "-- schema metadata --\n",
       "pandas: '{\"index_columns\": [{\"kind\": \"range\", \"name\": null, \"start\": 0, \"' + 796"
      ]
     },
     "execution_count": 4,
     "metadata": {},
     "output_type": "execute_result"
    }
   ],
   "source": [
    "# show arrow table schema\n",
    "table = pa.Table.from_pandas(df)\n",
    "table.schema"
   ]
  },
  {
   "cell_type": "code",
   "execution_count": 5,
   "id": "26056a65-d78e-46f4-9632-1a6fa7aa7da0",
   "metadata": {},
   "outputs": [
    {
     "data": {
      "text/plain": [
       "{b'pandas': b'{\"index_columns\": [{\"kind\": \"range\", \"name\": null, \"start\": 0, \"stop\": 150, \"step\": 1}], \"column_indexes\": [{\"name\": null, \"field_name\": null, \"pandas_type\": \"unicode\", \"numpy_type\": \"object\", \"metadata\": {\"encoding\": \"UTF-8\"}}], \"columns\": [{\"name\": \"sepal length (cm)\", \"field_name\": \"sepal length (cm)\", \"pandas_type\": \"float64\", \"numpy_type\": \"float64\", \"metadata\": null}, {\"name\": \"sepal width (cm)\", \"field_name\": \"sepal width (cm)\", \"pandas_type\": \"float64\", \"numpy_type\": \"float64\", \"metadata\": null}, {\"name\": \"petal length (cm)\", \"field_name\": \"petal length (cm)\", \"pandas_type\": \"float64\", \"numpy_type\": \"float64\", \"metadata\": null}, {\"name\": \"petal width (cm)\", \"field_name\": \"petal width (cm)\", \"pandas_type\": \"float64\", \"numpy_type\": \"float64\", \"metadata\": null}], \"creator\": {\"library\": \"pyarrow\", \"version\": \"4.0.0\"}, \"pandas_version\": \"1.2.4\"}'}"
      ]
     },
     "execution_count": 5,
     "metadata": {},
     "output_type": "execute_result"
    }
   ],
   "source": [
    "table.schema.metadata"
   ]
  },
  {
   "cell_type": "code",
   "execution_count": 6,
   "id": "40347a4b-b8bb-439d-8b4b-b3c042f19266",
   "metadata": {},
   "outputs": [
    {
     "data": {
      "text/plain": [
       "<pyarrow._parquet.FileMetaData object at 0x000001D36C1ABFA8>\n",
       "  created_by: parquet-cpp-arrow version 4.0.0\n",
       "  num_columns: 4\n",
       "  num_rows: 150\n",
       "  num_row_groups: 1\n",
       "  format_version: 1.0\n",
       "  serialized_size: 3154"
      ]
     },
     "execution_count": 6,
     "metadata": {},
     "output_type": "execute_result"
    }
   ],
   "source": [
    "# read from parquet file and determine schema\n",
    "df.to_parquet(\"iris.parquet\")\n",
    "parquet_file = pq.ParquetFile(\"iris.parquet\")\n",
    "parquet_file.metadata"
   ]
  },
  {
   "cell_type": "code",
   "execution_count": null,
   "id": "8521ede9-3737-44a6-8260-6bb85df5674a",
   "metadata": {},
   "outputs": [],
   "source": []
  }
 ],
 "metadata": {
  "kernelspec": {
   "display_name": "Python 3",
   "language": "python",
   "name": "python3"
  },
  "language_info": {
   "codemirror_mode": {
    "name": "ipython",
    "version": 3
   },
   "file_extension": ".py",
   "mimetype": "text/x-python",
   "name": "python",
   "nbconvert_exporter": "python",
   "pygments_lexer": "ipython3",
   "version": "3.7.9"
  }
 },
 "nbformat": 4,
 "nbformat_minor": 5
}
