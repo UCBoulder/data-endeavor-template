{
 "cells": [
  {
   "cell_type": "markdown",
   "id": "4abfc690-969a-4f28-b5cf-7ca348c8cd52",
   "metadata": {},
   "source": [
    "# Diagrams"
   ]
  },
  {
   "cell_type": "code",
   "execution_count": 2,
   "id": "d1b85f0e-deb7-4084-aeea-82c43897e3ef",
   "metadata": {},
   "outputs": [],
   "source": [
    "import iplantuml"
   ]
  },
  {
   "cell_type": "code",
   "execution_count": 6,
   "id": "ba3e1cbb-f3c6-4276-871a-0322e5b4dd07",
   "metadata": {},
   "outputs": [
    {
     "data": {
      "image/svg+xml": [
       "<svg contentScriptType=\"application/ecmascript\" contentStyleType=\"text/css\" height=\"198px\" preserveAspectRatio=\"none\" style=\"width:477px;height:198px;background:#FFFFFF;\" version=\"1.1\" viewBox=\"0 0 477 198\" width=\"477px\" xmlns=\"http://www.w3.org/2000/svg\" xmlns:xlink=\"http://www.w3.org/1999/xlink\" zoomAndPan=\"magnify\"><defs><filter height=\"300%\" id=\"fk9zce8gg0j0p\" width=\"300%\" x=\"-1\" y=\"-1\"><feGaussianBlur result=\"blurOut\" stdDeviation=\"2.0\"/><feColorMatrix in=\"blurOut\" result=\"blurOut2\" type=\"matrix\" values=\"0 0 0 0 0 0 0 0 0 0 0 0 0 0 0 0 0 0 .4 0\"/><feOffset dx=\"4.0\" dy=\"4.0\" in=\"blurOut2\" result=\"blurOut3\"/><feBlend in=\"SourceGraphic\" in2=\"blurOut3\" mode=\"normal\"/></filter></defs><g><!--MD5=[9d43cf96047e378adcca12cb04008485]\n",
       "entity jenkins--><rect fill=\"#FEFECE\" filter=\"url(#fk9zce8gg0j0p)\" height=\"37.6094\" style=\"stroke:#A80036;stroke-width:1.5;\" width=\"64\" x=\"184\" y=\"7\"/><text fill=\"#000000\" font-family=\"sans-serif\" font-size=\"14\" lengthAdjust=\"spacing\" textLength=\"44\" x=\"194\" y=\"31.5332\">jenkins</text><!--MD5=[7468467f3b6b392f1d176d828c753b77]\n",
       "entity db--><path d=\"M6,149.5 C6,139.5 24,139.5 24,139.5 C24,139.5 42,139.5 42,149.5 L42,176.1094 C42,186.1094 24,186.1094 24,186.1094 C24,186.1094 6,186.1094 6,176.1094 L6,149.5 \" fill=\"#FEFECE\" filter=\"url(#fk9zce8gg0j0p)\" style=\"stroke:#000000;stroke-width:1.5;\"/><path d=\"M6,149.5 C6,159.5 24,159.5 24,159.5 C24,159.5 42,159.5 42,149.5 \" fill=\"none\" style=\"stroke:#000000;stroke-width:1.5;\"/><text fill=\"#000000\" font-family=\"sans-serif\" font-size=\"14\" lengthAdjust=\"spacing\" textLength=\"16\" x=\"16\" y=\"178.0332\">db</text><!--MD5=[cf1788507ee09e2e2e04b8270906f85b]\n",
       "entity script1--><rect fill=\"#FEFECE\" filter=\"url(#fk9zce8gg0j0p)\" height=\"40.6094\" style=\"stroke:#000000;stroke-width:1.5;\" width=\"72\" x=\"77\" y=\"142.5\"/><polygon fill=\"#FEFECE\" points=\"132,147.5,132,161.5,144,161.5,144,153.5,138,147.5,132,147.5\" style=\"stroke:#000000;stroke-width:1.5;\"/><line style=\"stroke:#000000;stroke-width:1.5;\" x1=\"138\" x2=\"138\" y1=\"147.5\" y2=\"153.5\"/><line style=\"stroke:#000000;stroke-width:1.5;\" x1=\"144\" x2=\"138\" y1=\"153.5\" y2=\"153.5\"/><text fill=\"#000000\" font-family=\"sans-serif\" font-size=\"14\" lengthAdjust=\"spacing\" textLength=\"42\" x=\"87\" y=\"170.0332\">script1</text><!--MD5=[41779a7bf995c942424b5b2005b30fde]\n",
       "entity script2--><rect fill=\"#FEFECE\" filter=\"url(#fk9zce8gg0j0p)\" height=\"40.6094\" style=\"stroke:#000000;stroke-width:1.5;\" width=\"72\" x=\"283\" y=\"142.5\"/><polygon fill=\"#FEFECE\" points=\"338,147.5,338,161.5,350,161.5,350,153.5,344,147.5,338,147.5\" style=\"stroke:#000000;stroke-width:1.5;\"/><line style=\"stroke:#000000;stroke-width:1.5;\" x1=\"344\" x2=\"344\" y1=\"147.5\" y2=\"153.5\"/><line style=\"stroke:#000000;stroke-width:1.5;\" x1=\"350\" x2=\"344\" y1=\"153.5\" y2=\"153.5\"/><text fill=\"#000000\" font-family=\"sans-serif\" font-size=\"14\" lengthAdjust=\"spacing\" textLength=\"42\" x=\"293\" y=\"170.0332\">script2</text><!--MD5=[68a8a60d46bebb37aff9620eaa65b10a]\n",
       "entity sftp--><polygon fill=\"#FEFECE\" filter=\"url(#fk9zce8gg0j0p)\" points=\"184.5,149,194.5,139,247.5,139,247.5,176.6094,237.5,186.6094,184.5,186.6094,184.5,149\" style=\"stroke:#000000;stroke-width:1.5;\"/><line style=\"stroke:#000000;stroke-width:1.5;\" x1=\"237.5\" x2=\"247.5\" y1=\"149\" y2=\"139\"/><line style=\"stroke:#000000;stroke-width:1.5;\" x1=\"184.5\" x2=\"237.5\" y1=\"149\" y2=\"149\"/><line style=\"stroke:#000000;stroke-width:1.5;\" x1=\"237.5\" x2=\"237.5\" y1=\"149\" y2=\"186.6094\"/><text fill=\"#000000\" font-family=\"sans-serif\" font-size=\"14\" lengthAdjust=\"spacing\" textLength=\"23\" x=\"199.5\" y=\"173.5332\">sftp</text><!--MD5=[acbc68a64dcd70d973042d40e978def3]\n",
       "entity vendor--><path d=\"M398.8122,147.67 C401.8885,140.6694 408.2848,139.9395 413.0196,145.8442 C416.0467,137.659 421.5146,136.0584 427.5959,142.877 C432.9672,135.5296 438.9919,137.6849 442.3053,144.9487 C446.967,138.502 453.5629,140.7802 456.2467,147.1074 C467.8228,147.191 470.4405,153.3405 465.6031,163.0542 C470.7535,171.6625 466.5848,179.2914 456.3493,178.9332 C453.5237,186.5205 448.5043,187.5439 442.4875,182.4108 C439.0144,191.2575 432.7534,190.9894 427.1063,184.6065 C421.794,189.3011 416.0365,189.3069 413.5918,181.5052 C407.6196,188.016 402.7088,186.3261 399.6856,178.6206 C389.283,177.9559 385.5882,173.4171 390.3833,163.4398 C384.1838,154.4829 389.2937,148.2257 398.8122,147.67 \" fill=\"#FEFECE\" filter=\"url(#fk9zce8gg0j0p)\" style=\"stroke:#000000;stroke-width:1.5;\"/><text fill=\"#000000\" font-family=\"sans-serif\" font-size=\"14\" lengthAdjust=\"spacing\" textLength=\"44\" x=\"405\" y=\"168.5332\">vendor</text><!--MD5=[896c62e6b7a87c765e4f58efde06da4a]\n",
       "link jenkins to script1--><path d=\"M202.11,45.21 C183.76,69.25 151.41,111.65 131.15,138.21 \" fill=\"none\" id=\"jenkins-to-script1\" style=\"stroke:#A80036;stroke-width:1.0;stroke-dasharray:7.0,7.0;\"/><polygon fill=\"#A80036\" points=\"128,142.33,136.6382,137.599,131.0319,138.3542,130.2768,132.7479,128,142.33\" style=\"stroke:#A80036;stroke-width:1.0;\"/><text fill=\"#000000\" font-family=\"sans-serif\" font-size=\"13\" lengthAdjust=\"spacing\" textLength=\"59\" x=\"184\" y=\"89.4951\">scheduled</text><text fill=\"#000000\" font-family=\"sans-serif\" font-size=\"13\" lengthAdjust=\"spacing\" textLength=\"71\" x=\"178\" y=\"105.8467\">execution(s)</text><!--MD5=[724ced4d0f663b4aae4f4857fc7e8092]\n",
       "link db to script1--><path d=\"M42.08,163 C51.99,163 61.9,163 71.8,163 \" fill=\"none\" id=\"db-to-script1\" style=\"stroke:#A80036;stroke-width:1.0;\"/><polygon fill=\"#A80036\" points=\"76.98,163,67.9915,158.9743,71.98,162.9857,67.9686,166.9743,76.98,163\" style=\"stroke:#A80036;stroke-width:1.0;\"/><!--MD5=[f4763a047665095b7f656eb1daaec0d9]\n",
       "link script1 to sftp--><path d=\"M149.21,163 C159.21,163 169.21,163 179.2,163 \" fill=\"none\" id=\"script1-to-sftp\" style=\"stroke:#A80036;stroke-width:1.0;\"/><polygon fill=\"#A80036\" points=\"184.43,163,175.43,159,179.43,163,175.43,167,184.43,163\" style=\"stroke:#A80036;stroke-width:1.0;\"/><!--MD5=[ac4d6acbe8ff6e7ad5804c8182f79772]\n",
       "link jenkins to script2--><path d=\"M232.83,45.3 C240.71,54.09 250.07,64.89 258,75 C274.16,95.61 291.16,120.11 303.09,137.86 \" fill=\"none\" id=\"jenkins-to-script2\" style=\"stroke:#A80036;stroke-width:1.0;stroke-dasharray:7.0,7.0;\"/><polygon fill=\"#A80036\" points=\"306.02,142.22,304.3328,132.5167,303.2366,138.0663,297.687,136.9701,306.02,142.22\" style=\"stroke:#A80036;stroke-width:1.0;\"/><!--MD5=[5e0f7105e59cac2914016b083fa682b0]\n",
       "link sftp to script2--><path d=\"M247.79,163 C257.73,163 267.68,163 277.63,163 \" fill=\"none\" id=\"sftp-to-script2\" style=\"stroke:#A80036;stroke-width:1.0;\"/><polygon fill=\"#A80036\" points=\"282.84,163,273.84,159,277.84,163,273.84,167,282.84,163\" style=\"stroke:#A80036;stroke-width:1.0;\"/><!--MD5=[946ba448d11bcd6b6b50bd96a3987c4b]\n",
       "link script2 to vendor--><path d=\"M355.28,163 C365.06,163 374.84,163 384.62,163 \" fill=\"none\" id=\"script2-to-vendor\" style=\"stroke:#A80036;stroke-width:1.0;\"/><polygon fill=\"#A80036\" points=\"389.74,163,380.74,159,384.74,163,380.74,167,389.74,163\" style=\"stroke:#A80036;stroke-width:1.0;\"/><!--MD5=[476016805a9ba3e825f35b8bace367fa]\n",
       "@startuml\n",
       "agent jenkins\n",
       "database db\n",
       "artifact script1\n",
       "artifact script2\n",
       "node sftp\n",
       "cloud vendor\n",
       "jenkins ..> script1 :scheduled\\nexecution(s)\n",
       "script1 <-left- db\n",
       "script1 -right-> sftp\n",
       "jenkins ..> script2\n",
       "script2 <-left- sftp\n",
       "script2 -right->vendor\n",
       "@enduml\n",
       "\n",
       "PlantUML version 1.2021.8(Sat Jun 26 02:20:59 MDT 2021)\n",
       "(GPL source distribution)\n",
       "Java Runtime: OpenJDK Runtime Environment\n",
       "JVM: OpenJDK 64-Bit Server VM\n",
       "Default Encoding: Cp1252\n",
       "Language: en\n",
       "Country: US\n",
       "--></g></svg>"
      ],
      "text/plain": [
       "<IPython.core.display.SVG object>"
      ]
     },
     "execution_count": 6,
     "metadata": {},
     "output_type": "execute_result"
    }
   ],
   "source": [
    "%%plantuml --jar --name data_flow\n",
    "\n",
    "@startuml\n",
    "agent jenkins\n",
    "database db\n",
    "artifact script1\n",
    "artifact script2\n",
    "node sftp\n",
    "cloud vendor\n",
    "jenkins ..> script1 :scheduled\\nexecution(s)\n",
    "script1 <-left- db\n",
    "script1 -right-> sftp\n",
    "jenkins ..> script2\n",
    "script2 <-left- sftp\n",
    "script2 -right->vendor\n",
    "@enduml"
   ]
  }
 ],
 "metadata": {
  "kernelspec": {
   "display_name": "Python 3",
   "language": "python",
   "name": "python3"
  },
  "language_info": {
   "codemirror_mode": {
    "name": "ipython",
    "version": 3
   },
   "file_extension": ".py",
   "mimetype": "text/x-python",
   "name": "python",
   "nbconvert_exporter": "python",
   "pygments_lexer": "ipython3",
   "version": "3.7.9"
  }
 },
 "nbformat": 4,
 "nbformat_minor": 5
}
